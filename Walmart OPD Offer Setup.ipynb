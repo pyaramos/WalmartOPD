{
 "cells": [
  {
   "cell_type": "code",
   "execution_count": 1,
   "metadata": {},
   "outputs": [],
   "source": [
    "import pandas as pd\n",
    "from ds_util.qubole import run_presto"
   ]
  },
  {
   "cell_type": "code",
   "execution_count": 2,
   "metadata": {},
   "outputs": [],
   "source": [
    "df=pd.read_csv('ibotta_full_walmart_new_list_2020-09-21.txt')"
   ]
  },
  {
   "cell_type": "code",
   "execution_count": 3,
   "metadata": {},
   "outputs": [
    {
     "data": {
      "text/html": [
       "<div>\n",
       "<style scoped>\n",
       "    .dataframe tbody tr th:only-of-type {\n",
       "        vertical-align: middle;\n",
       "    }\n",
       "\n",
       "    .dataframe tbody tr th {\n",
       "        vertical-align: top;\n",
       "    }\n",
       "\n",
       "    .dataframe thead th {\n",
       "        text-align: right;\n",
       "    }\n",
       "</style>\n",
       "<table border=\"1\" class=\"dataframe\">\n",
       "  <thead>\n",
       "    <tr style=\"text-align: right;\">\n",
       "      <th></th>\n",
       "      <th>00000091C29D91C93B200BA5A6C7DC37CC6023781569FF2F816710BD793333DA</th>\n",
       "    </tr>\n",
       "  </thead>\n",
       "  <tbody>\n",
       "    <tr>\n",
       "      <th>0</th>\n",
       "      <td>0000029907C8BDD1B920E3709B4CE891B8CEF1D324BFBC...</td>\n",
       "    </tr>\n",
       "    <tr>\n",
       "      <th>1</th>\n",
       "      <td>000003541DA609333E4FB096CA0F49CF1E43FD2BA1DC67...</td>\n",
       "    </tr>\n",
       "    <tr>\n",
       "      <th>2</th>\n",
       "      <td>0000038A3AFB972B873C0B21730FC7FB3FF7D3F47A394F...</td>\n",
       "    </tr>\n",
       "    <tr>\n",
       "      <th>3</th>\n",
       "      <td>000004EC8B22916851013178ADB500256C69D5372EBE50...</td>\n",
       "    </tr>\n",
       "    <tr>\n",
       "      <th>4</th>\n",
       "      <td>000005FEFBDBD194EC4F9EEC192A679FF47EDD740FA1CF...</td>\n",
       "    </tr>\n",
       "  </tbody>\n",
       "</table>\n",
       "</div>"
      ],
      "text/plain": [
       "  00000091C29D91C93B200BA5A6C7DC37CC6023781569FF2F816710BD793333DA\n",
       "0  0000029907C8BDD1B920E3709B4CE891B8CEF1D324BFBC...              \n",
       "1  000003541DA609333E4FB096CA0F49CF1E43FD2BA1DC67...              \n",
       "2  0000038A3AFB972B873C0B21730FC7FB3FF7D3F47A394F...              \n",
       "3  000004EC8B22916851013178ADB500256C69D5372EBE50...              \n",
       "4  000005FEFBDBD194EC4F9EEC192A679FF47EDD740FA1CF...              "
      ]
     },
     "execution_count": 3,
     "metadata": {},
     "output_type": "execute_result"
    }
   ],
   "source": [
    "df.head()"
   ]
  },
  {
   "cell_type": "code",
   "execution_count": null,
   "metadata": {},
   "outputs": [],
   "source": [
    "df.count()"
   ]
  },
  {
   "cell_type": "code",
   "execution_count": null,
   "metadata": {},
   "outputs": [],
   "source": [
    "#link to the normalization function in Scala\n",
    "https://api.qubole.com/notebooks#home?id=185446&type=my-notebooks&view=home"
   ]
  },
  {
   "cell_type": "code",
   "execution_count": 4,
   "metadata": {},
   "outputs": [],
   "source": [
    "hashed_emails=run_presto(\"\"\"select distinct customer_id, to_hex(sha256(to_utf8(normalized))) as hashed_email from retail.wm_normalized_20210409\"\"\", return_data=True)"
   ]
  },
  {
   "cell_type": "code",
   "execution_count": 5,
   "metadata": {},
   "outputs": [
    {
     "data": {
      "text/html": [
       "<div>\n",
       "<style scoped>\n",
       "    .dataframe tbody tr th:only-of-type {\n",
       "        vertical-align: middle;\n",
       "    }\n",
       "\n",
       "    .dataframe tbody tr th {\n",
       "        vertical-align: top;\n",
       "    }\n",
       "\n",
       "    .dataframe thead th {\n",
       "        text-align: right;\n",
       "    }\n",
       "</style>\n",
       "<table border=\"1\" class=\"dataframe\">\n",
       "  <thead>\n",
       "    <tr style=\"text-align: right;\">\n",
       "      <th></th>\n",
       "      <th>customer_id</th>\n",
       "      <th>hashed_email</th>\n",
       "    </tr>\n",
       "  </thead>\n",
       "  <tbody>\n",
       "    <tr>\n",
       "      <th>0</th>\n",
       "      <td>1559274</td>\n",
       "      <td>EA8E5FBBDFDA9724B7BAD94BD82D749AFF6CB45E8E4166...</td>\n",
       "    </tr>\n",
       "    <tr>\n",
       "      <th>1</th>\n",
       "      <td>25917283</td>\n",
       "      <td>CC8025DA35A2404ED4C94B531BC4AA572F02044B514134...</td>\n",
       "    </tr>\n",
       "    <tr>\n",
       "      <th>2</th>\n",
       "      <td>25919312</td>\n",
       "      <td>A37DBC7FD3D88B6E3ED27825FC2EF67C7075D7BA1AC386...</td>\n",
       "    </tr>\n",
       "    <tr>\n",
       "      <th>3</th>\n",
       "      <td>27292191</td>\n",
       "      <td>F55726607AB442A3FA1A91FC3FCB619E82BBDD1590038B...</td>\n",
       "    </tr>\n",
       "    <tr>\n",
       "      <th>4</th>\n",
       "      <td>2501460</td>\n",
       "      <td>B5BCB1F74251A03F9589459647C2F634AAC68629C2233D...</td>\n",
       "    </tr>\n",
       "    <tr>\n",
       "      <th>...</th>\n",
       "      <td>...</td>\n",
       "      <td>...</td>\n",
       "    </tr>\n",
       "    <tr>\n",
       "      <th>40181617</th>\n",
       "      <td>24878631</td>\n",
       "      <td>6643743FD6FBCC6DF0AF2F2A42478F812878A065DBCBEC...</td>\n",
       "    </tr>\n",
       "    <tr>\n",
       "      <th>40181618</th>\n",
       "      <td>24880615</td>\n",
       "      <td>9AA9264736AAEF703A29CD07A66972E02A9DFCBD76D0ED...</td>\n",
       "    </tr>\n",
       "    <tr>\n",
       "      <th>40181619</th>\n",
       "      <td>2689770</td>\n",
       "      <td>F547021DBA11AF4403EAC430D42292AFA440221CFFCA87...</td>\n",
       "    </tr>\n",
       "    <tr>\n",
       "      <th>40181620</th>\n",
       "      <td>2694125</td>\n",
       "      <td>CB1820F4C8724462AAA089C34CB710BBE0287C5ACD524A...</td>\n",
       "    </tr>\n",
       "    <tr>\n",
       "      <th>40181621</th>\n",
       "      <td>1556187</td>\n",
       "      <td>0A37D36B65B8D3F59D1C47B8107797612E9D528A571110...</td>\n",
       "    </tr>\n",
       "  </tbody>\n",
       "</table>\n",
       "<p>40181622 rows × 2 columns</p>\n",
       "</div>"
      ],
      "text/plain": [
       "          customer_id                                       hashed_email\n",
       "0             1559274  EA8E5FBBDFDA9724B7BAD94BD82D749AFF6CB45E8E4166...\n",
       "1            25917283  CC8025DA35A2404ED4C94B531BC4AA572F02044B514134...\n",
       "2            25919312  A37DBC7FD3D88B6E3ED27825FC2EF67C7075D7BA1AC386...\n",
       "3            27292191  F55726607AB442A3FA1A91FC3FCB619E82BBDD1590038B...\n",
       "4             2501460  B5BCB1F74251A03F9589459647C2F634AAC68629C2233D...\n",
       "...               ...                                                ...\n",
       "40181617     24878631  6643743FD6FBCC6DF0AF2F2A42478F812878A065DBCBEC...\n",
       "40181618     24880615  9AA9264736AAEF703A29CD07A66972E02A9DFCBD76D0ED...\n",
       "40181619      2689770  F547021DBA11AF4403EAC430D42292AFA440221CFFCA87...\n",
       "40181620      2694125  CB1820F4C8724462AAA089C34CB710BBE0287C5ACD524A...\n",
       "40181621      1556187  0A37D36B65B8D3F59D1C47B8107797612E9D528A571110...\n",
       "\n",
       "[40181622 rows x 2 columns]"
      ]
     },
     "execution_count": 5,
     "metadata": {},
     "output_type": "execute_result"
    }
   ],
   "source": [
    "hashed_emails"
   ]
  },
  {
   "cell_type": "code",
   "execution_count": 6,
   "metadata": {},
   "outputs": [],
   "source": [
    "new_to_wm=pd.merge(df, hashed_emails, left_on='00000091C29D91C93B200BA5A6C7DC37CC6023781569FF2F816710BD793333DA', right_on='hashed_email')"
   ]
  },
  {
   "cell_type": "code",
   "execution_count": null,
   "metadata": {},
   "outputs": [],
   "source": [
    "14467582- 14474472"
   ]
  },
  {
   "cell_type": "code",
   "execution_count": null,
   "metadata": {},
   "outputs": [],
   "source": [
    "#linked accounts query: https://api.qubole.com/v2/analyze?command_id=453792163"
   ]
  },
  {
   "cell_type": "code",
   "execution_count": 7,
   "metadata": {},
   "outputs": [],
   "source": [
    "known_opd=run_presto(\"\"\"select distinct cast(customer_id as bigint) customer_id from mhackler.wm_linked_accounts\n",
    "union\n",
    "select distinct customer_id from vw_receipts where retailer_id in (1408, 1678 )\"\"\", return_data=True)"
   ]
  },
  {
   "cell_type": "code",
   "execution_count": 9,
   "metadata": {},
   "outputs": [
    {
     "data": {
      "text/plain": [
       "customer_id    1035645\n",
       "dtype: int64"
      ]
     },
     "execution_count": 9,
     "metadata": {},
     "output_type": "execute_result"
    }
   ],
   "source": [
    "known_opd.count()"
   ]
  },
  {
   "cell_type": "code",
   "execution_count": 10,
   "metadata": {},
   "outputs": [
    {
     "data": {
      "text/html": [
       "<div>\n",
       "<style scoped>\n",
       "    .dataframe tbody tr th:only-of-type {\n",
       "        vertical-align: middle;\n",
       "    }\n",
       "\n",
       "    .dataframe tbody tr th {\n",
       "        vertical-align: top;\n",
       "    }\n",
       "\n",
       "    .dataframe thead th {\n",
       "        text-align: right;\n",
       "    }\n",
       "</style>\n",
       "<table border=\"1\" class=\"dataframe\">\n",
       "  <thead>\n",
       "    <tr style=\"text-align: right;\">\n",
       "      <th></th>\n",
       "      <th>00000091C29D91C93B200BA5A6C7DC37CC6023781569FF2F816710BD793333DA</th>\n",
       "      <th>customer_id</th>\n",
       "      <th>hashed_email</th>\n",
       "    </tr>\n",
       "  </thead>\n",
       "  <tbody>\n",
       "    <tr>\n",
       "      <th>0</th>\n",
       "      <td>0000029907C8BDD1B920E3709B4CE891B8CEF1D324BFBC...</td>\n",
       "      <td>4397919</td>\n",
       "      <td>0000029907C8BDD1B920E3709B4CE891B8CEF1D324BFBC...</td>\n",
       "    </tr>\n",
       "    <tr>\n",
       "      <th>1</th>\n",
       "      <td>000003541DA609333E4FB096CA0F49CF1E43FD2BA1DC67...</td>\n",
       "      <td>12738949</td>\n",
       "      <td>000003541DA609333E4FB096CA0F49CF1E43FD2BA1DC67...</td>\n",
       "    </tr>\n",
       "    <tr>\n",
       "      <th>2</th>\n",
       "      <td>0000038A3AFB972B873C0B21730FC7FB3FF7D3F47A394F...</td>\n",
       "      <td>35066202</td>\n",
       "      <td>0000038A3AFB972B873C0B21730FC7FB3FF7D3F47A394F...</td>\n",
       "    </tr>\n",
       "    <tr>\n",
       "      <th>3</th>\n",
       "      <td>000004EC8B22916851013178ADB500256C69D5372EBE50...</td>\n",
       "      <td>35046024</td>\n",
       "      <td>000004EC8B22916851013178ADB500256C69D5372EBE50...</td>\n",
       "    </tr>\n",
       "    <tr>\n",
       "      <th>4</th>\n",
       "      <td>000005FEFBDBD194EC4F9EEC192A679FF47EDD740FA1CF...</td>\n",
       "      <td>36338773</td>\n",
       "      <td>000005FEFBDBD194EC4F9EEC192A679FF47EDD740FA1CF...</td>\n",
       "    </tr>\n",
       "  </tbody>\n",
       "</table>\n",
       "</div>"
      ],
      "text/plain": [
       "  00000091C29D91C93B200BA5A6C7DC37CC6023781569FF2F816710BD793333DA  \\\n",
       "0  0000029907C8BDD1B920E3709B4CE891B8CEF1D324BFBC...                 \n",
       "1  000003541DA609333E4FB096CA0F49CF1E43FD2BA1DC67...                 \n",
       "2  0000038A3AFB972B873C0B21730FC7FB3FF7D3F47A394F...                 \n",
       "3  000004EC8B22916851013178ADB500256C69D5372EBE50...                 \n",
       "4  000005FEFBDBD194EC4F9EEC192A679FF47EDD740FA1CF...                 \n",
       "\n",
       "   customer_id                                       hashed_email  \n",
       "0      4397919  0000029907C8BDD1B920E3709B4CE891B8CEF1D324BFBC...  \n",
       "1     12738949  000003541DA609333E4FB096CA0F49CF1E43FD2BA1DC67...  \n",
       "2     35066202  0000038A3AFB972B873C0B21730FC7FB3FF7D3F47A394F...  \n",
       "3     35046024  000004EC8B22916851013178ADB500256C69D5372EBE50...  \n",
       "4     36338773  000005FEFBDBD194EC4F9EEC192A679FF47EDD740FA1CF...  "
      ]
     },
     "execution_count": 10,
     "metadata": {},
     "output_type": "execute_result"
    }
   ],
   "source": [
    "new_to_wm.head()"
   ]
  },
  {
   "cell_type": "code",
   "execution_count": 8,
   "metadata": {},
   "outputs": [],
   "source": [
    "segment=new_to_wm[~new_to_wm['customer_id'].isin(known_opd.customer_id)]"
   ]
  },
  {
   "cell_type": "code",
   "execution_count": 12,
   "metadata": {},
   "outputs": [
    {
     "data": {
      "text/plain": [
       "00000091C29D91C93B200BA5A6C7DC37CC6023781569FF2F816710BD793333DA    14474472\n",
       "customer_id                                                         14474472\n",
       "hashed_email                                                        14474472\n",
       "dtype: int64"
      ]
     },
     "execution_count": 12,
     "metadata": {},
     "output_type": "execute_result"
    }
   ],
   "source": [
    "new_to_wm.count()"
   ]
  },
  {
   "cell_type": "code",
   "execution_count": 13,
   "metadata": {},
   "outputs": [
    {
     "data": {
      "text/plain": [
       "00000091C29D91C93B200BA5A6C7DC37CC6023781569FF2F816710BD793333DA    14321064\n",
       "customer_id                                                         14321064\n",
       "hashed_email                                                        14321064\n",
       "dtype: int64"
      ]
     },
     "execution_count": 13,
     "metadata": {},
     "output_type": "execute_result"
    }
   ],
   "source": [
    "segment.count()"
   ]
  },
  {
   "cell_type": "code",
   "execution_count": 26,
   "metadata": {},
   "outputs": [],
   "source": [
    "known_opd_launch=run_presto(\"\"\"select distinct cast(customer_id as bigint) customer_id from mhackler.wm_linked_accounts\n",
    "union\n",
    "select distinct customer_id from vw_receipts where retailer_id in (1408, 1678 )\n",
    "union\n",
    "select distinct customer_id from vw_customer_retailer_launches where retailer_id in (1408, 1678)\n",
    "\"\"\", return_data=True)"
   ]
  },
  {
   "cell_type": "code",
   "execution_count": 20,
   "metadata": {},
   "outputs": [
    {
     "data": {
      "text/plain": [
       "customer_id    1174863\n",
       "dtype: int64"
      ]
     },
     "execution_count": 20,
     "metadata": {},
     "output_type": "execute_result"
    }
   ],
   "source": [
    "known_opd_launch.count()"
   ]
  },
  {
   "cell_type": "code",
   "execution_count": 27,
   "metadata": {},
   "outputs": [],
   "source": [
    "segment2=new_to_wm[~new_to_wm['customer_id'].isin(known_opd_launch.customer_id)]"
   ]
  },
  {
   "cell_type": "code",
   "execution_count": 18,
   "metadata": {},
   "outputs": [
    {
     "data": {
      "text/plain": [
       "00000091C29D91C93B200BA5A6C7DC37CC6023781569FF2F816710BD793333DA    14305494\n",
       "customer_id                                                         14305494\n",
       "hashed_email                                                        14305494\n",
       "dtype: int64"
      ]
     },
     "execution_count": 18,
     "metadata": {},
     "output_type": "execute_result"
    }
   ],
   "source": [
    "segment2.count()"
   ]
  },
  {
   "cell_type": "code",
   "execution_count": 19,
   "metadata": {},
   "outputs": [
    {
     "data": {
      "text/plain": [
       "00000091C29D91C93B200BA5A6C7DC37CC6023781569FF2F816710BD793333DA    14321064\n",
       "customer_id                                                         14321064\n",
       "hashed_email                                                        14321064\n",
       "dtype: int64"
      ]
     },
     "execution_count": 19,
     "metadata": {},
     "output_type": "execute_result"
    }
   ],
   "source": [
    "segment.count()"
   ]
  },
  {
   "cell_type": "code",
   "execution_count": 12,
   "metadata": {},
   "outputs": [],
   "source": [
    "new_after_match=run_presto(\"\"\"select distinct id customer_id from vw_customers \n",
    "where created_at>date '2020-10-01'\"\"\", return_data=True)"
   ]
  },
  {
   "cell_type": "code",
   "execution_count": 28,
   "metadata": {},
   "outputs": [],
   "source": [
    "segment2b=new_after_match[~new_after_match['customer_id'].isin(known_opd_launch.customer_id)]"
   ]
  },
  {
   "cell_type": "code",
   "execution_count": 29,
   "metadata": {},
   "outputs": [],
   "source": [
    "total_a=pd.concat([segment2[['customer_id']],segment2b])"
   ]
  },
  {
   "cell_type": "code",
   "execution_count": 30,
   "metadata": {},
   "outputs": [
    {
     "data": {
      "text/plain": [
       "17406707"
      ]
     },
     "execution_count": 30,
     "metadata": {},
     "output_type": "execute_result"
    }
   ],
   "source": [
    "total_a.customer_id.nunique()"
   ]
  },
  {
   "cell_type": "code",
   "execution_count": 31,
   "metadata": {},
   "outputs": [
    {
     "data": {
      "text/html": [
       "<div>\n",
       "<style scoped>\n",
       "    .dataframe tbody tr th:only-of-type {\n",
       "        vertical-align: middle;\n",
       "    }\n",
       "\n",
       "    .dataframe tbody tr th {\n",
       "        vertical-align: top;\n",
       "    }\n",
       "\n",
       "    .dataframe thead th {\n",
       "        text-align: right;\n",
       "    }\n",
       "</style>\n",
       "<table border=\"1\" class=\"dataframe\">\n",
       "  <thead>\n",
       "    <tr style=\"text-align: right;\">\n",
       "      <th></th>\n",
       "      <th>customer_id</th>\n",
       "    </tr>\n",
       "  </thead>\n",
       "  <tbody>\n",
       "  </tbody>\n",
       "</table>\n",
       "</div>"
      ],
      "text/plain": [
       "Empty DataFrame\n",
       "Columns: [customer_id]\n",
       "Index: []"
      ]
     },
     "execution_count": 31,
     "metadata": {},
     "output_type": "execute_result"
    }
   ],
   "source": [
    "#checdk for overlap\n",
    "pd.merge(total_a, known_opd_launch.customer_id, on='customer_id')"
   ]
  },
  {
   "cell_type": "code",
   "execution_count": 32,
   "metadata": {},
   "outputs": [],
   "source": [
    "import numpy as np\n",
    "total_a['segment']='new_to_wm_opd20210511'"
   ]
  },
  {
   "cell_type": "code",
   "execution_count": 33,
   "metadata": {},
   "outputs": [],
   "source": [
    "sessioners=run_presto(\"\"\"select distinct customer_id from vw_tracking_session where day>=current_date\n",
    "-interval'90' day\"\"\", return_data=True)"
   ]
  },
  {
   "cell_type": "code",
   "execution_count": 34,
   "metadata": {},
   "outputs": [
    {
     "data": {
      "text/html": [
       "<div>\n",
       "<style scoped>\n",
       "    .dataframe tbody tr th:only-of-type {\n",
       "        vertical-align: middle;\n",
       "    }\n",
       "\n",
       "    .dataframe tbody tr th {\n",
       "        vertical-align: top;\n",
       "    }\n",
       "\n",
       "    .dataframe thead th {\n",
       "        text-align: right;\n",
       "    }\n",
       "</style>\n",
       "<table border=\"1\" class=\"dataframe\">\n",
       "  <thead>\n",
       "    <tr style=\"text-align: right;\">\n",
       "      <th></th>\n",
       "      <th>customer_id</th>\n",
       "      <th>segment</th>\n",
       "    </tr>\n",
       "  </thead>\n",
       "  <tbody>\n",
       "    <tr>\n",
       "      <th>0</th>\n",
       "      <td>4397919</td>\n",
       "      <td>new_to_wm_opd20210511</td>\n",
       "    </tr>\n",
       "    <tr>\n",
       "      <th>1</th>\n",
       "      <td>12738949</td>\n",
       "      <td>new_to_wm_opd20210511</td>\n",
       "    </tr>\n",
       "    <tr>\n",
       "      <th>2</th>\n",
       "      <td>35066202</td>\n",
       "      <td>new_to_wm_opd20210511</td>\n",
       "    </tr>\n",
       "    <tr>\n",
       "      <th>3</th>\n",
       "      <td>35046024</td>\n",
       "      <td>new_to_wm_opd20210511</td>\n",
       "    </tr>\n",
       "    <tr>\n",
       "      <th>4</th>\n",
       "      <td>36338773</td>\n",
       "      <td>new_to_wm_opd20210511</td>\n",
       "    </tr>\n",
       "  </tbody>\n",
       "</table>\n",
       "</div>"
      ],
      "text/plain": [
       "   customer_id                segment\n",
       "0      4397919  new_to_wm_opd20210511\n",
       "1     12738949  new_to_wm_opd20210511\n",
       "2     35066202  new_to_wm_opd20210511\n",
       "3     35046024  new_to_wm_opd20210511\n",
       "4     36338773  new_to_wm_opd20210511"
      ]
     },
     "execution_count": 34,
     "metadata": {},
     "output_type": "execute_result"
    }
   ],
   "source": [
    "total_a.head()"
   ]
  },
  {
   "cell_type": "code",
   "execution_count": 56,
   "metadata": {},
   "outputs": [],
   "source": [
    "import numpy as np\n",
    "split_list=np.array_split(total_a['customer_id'],2)\n",
    "a=pd.DataFrame(split_list[0])\n",
    "a['segment']='new_to_wm_opd20210511_p1'\n",
    "a.to_csv('walmart_opd_new_bizops_p1_20210511.csv', index=False)\n",
    "b=pd.DataFrame(split_list[1])\n",
    "b['segment']='new_to_wm_opd20210511_p2'\n",
    "b.to_csv('walmart_opd_new_bizops_p2_20210511.csv', index=False)\n"
   ]
  },
  {
   "cell_type": "code",
   "execution_count": 58,
   "metadata": {},
   "outputs": [
    {
     "data": {
      "text/html": [
       "<div>\n",
       "<style scoped>\n",
       "    .dataframe tbody tr th:only-of-type {\n",
       "        vertical-align: middle;\n",
       "    }\n",
       "\n",
       "    .dataframe tbody tr th {\n",
       "        vertical-align: top;\n",
       "    }\n",
       "\n",
       "    .dataframe thead th {\n",
       "        text-align: right;\n",
       "    }\n",
       "</style>\n",
       "<table border=\"1\" class=\"dataframe\">\n",
       "  <thead>\n",
       "    <tr style=\"text-align: right;\">\n",
       "      <th></th>\n",
       "      <th>customer_id</th>\n",
       "      <th>segment</th>\n",
       "    </tr>\n",
       "  </thead>\n",
       "  <tbody>\n",
       "    <tr>\n",
       "      <th>0</th>\n",
       "      <td>4397919</td>\n",
       "      <td>new_to_wm_opd20210511_p1</td>\n",
       "    </tr>\n",
       "    <tr>\n",
       "      <th>1</th>\n",
       "      <td>12738949</td>\n",
       "      <td>new_to_wm_opd20210511_p1</td>\n",
       "    </tr>\n",
       "    <tr>\n",
       "      <th>2</th>\n",
       "      <td>35066202</td>\n",
       "      <td>new_to_wm_opd20210511_p1</td>\n",
       "    </tr>\n",
       "    <tr>\n",
       "      <th>3</th>\n",
       "      <td>35046024</td>\n",
       "      <td>new_to_wm_opd20210511_p1</td>\n",
       "    </tr>\n",
       "    <tr>\n",
       "      <th>4</th>\n",
       "      <td>36338773</td>\n",
       "      <td>new_to_wm_opd20210511_p1</td>\n",
       "    </tr>\n",
       "    <tr>\n",
       "      <th>...</th>\n",
       "      <td>...</td>\n",
       "      <td>...</td>\n",
       "    </tr>\n",
       "    <tr>\n",
       "      <th>8703786</th>\n",
       "      <td>319284</td>\n",
       "      <td>new_to_wm_opd20210511_p1</td>\n",
       "    </tr>\n",
       "    <tr>\n",
       "      <th>8703787</th>\n",
       "      <td>18609422</td>\n",
       "      <td>new_to_wm_opd20210511_p1</td>\n",
       "    </tr>\n",
       "    <tr>\n",
       "      <th>8703788</th>\n",
       "      <td>20793553</td>\n",
       "      <td>new_to_wm_opd20210511_p1</td>\n",
       "    </tr>\n",
       "    <tr>\n",
       "      <th>8703789</th>\n",
       "      <td>27710111</td>\n",
       "      <td>new_to_wm_opd20210511_p1</td>\n",
       "    </tr>\n",
       "    <tr>\n",
       "      <th>8703790</th>\n",
       "      <td>33168283</td>\n",
       "      <td>new_to_wm_opd20210511_p1</td>\n",
       "    </tr>\n",
       "  </tbody>\n",
       "</table>\n",
       "<p>8703791 rows × 2 columns</p>\n",
       "</div>"
      ],
      "text/plain": [
       "         customer_id                   segment\n",
       "0            4397919  new_to_wm_opd20210511_p1\n",
       "1           12738949  new_to_wm_opd20210511_p1\n",
       "2           35066202  new_to_wm_opd20210511_p1\n",
       "3           35046024  new_to_wm_opd20210511_p1\n",
       "4           36338773  new_to_wm_opd20210511_p1\n",
       "...              ...                       ...\n",
       "8703786       319284  new_to_wm_opd20210511_p1\n",
       "8703787     18609422  new_to_wm_opd20210511_p1\n",
       "8703788     20793553  new_to_wm_opd20210511_p1\n",
       "8703789     27710111  new_to_wm_opd20210511_p1\n",
       "8703790     33168283  new_to_wm_opd20210511_p1\n",
       "\n",
       "[8703791 rows x 2 columns]"
      ]
     },
     "execution_count": 58,
     "metadata": {},
     "output_type": "execute_result"
    }
   ],
   "source": [
    "check=pd.read_csv('walmart_opd_new_bizops_p1_20210511.csv')\n",
    "check"
   ]
  },
  {
   "cell_type": "code",
   "execution_count": 36,
   "metadata": {},
   "outputs": [
    {
     "data": {
      "text/plain": [
       "customer_id    1711089\n",
       "segment        1711089\n",
       "dtype: int64"
      ]
     },
     "execution_count": 36,
     "metadata": {},
     "output_type": "execute_result"
    }
   ],
   "source": [
    "sessioners_wm=pd.merge(total_a, sessioners, on='customer_id', how='inner')\n",
    "sessioners_wm.count()"
   ]
  },
  {
   "cell_type": "code",
   "execution_count": 59,
   "metadata": {},
   "outputs": [],
   "source": [
    "import numpy as np\n",
    "sessioners_wm.rename(columns={'customer_id':'external_id'}, inplace=True)\n",
    "split_list=np.array_split(sessioners_wm['external_id'],2)\n",
    "pd.DataFrame(split_list[0]).to_csv('walmart_opd_new_marketing_p1_20210511.csv', index=False)\n",
    "pd.DataFrame(split_list[1]).to_csv('walmart_opd_new_marketing_p2_20210511.csv', index=False)"
   ]
  },
  {
   "cell_type": "code",
   "execution_count": 60,
   "metadata": {},
   "outputs": [
    {
     "data": {
      "text/html": [
       "<div>\n",
       "<style scoped>\n",
       "    .dataframe tbody tr th:only-of-type {\n",
       "        vertical-align: middle;\n",
       "    }\n",
       "\n",
       "    .dataframe tbody tr th {\n",
       "        vertical-align: top;\n",
       "    }\n",
       "\n",
       "    .dataframe thead th {\n",
       "        text-align: right;\n",
       "    }\n",
       "</style>\n",
       "<table border=\"1\" class=\"dataframe\">\n",
       "  <thead>\n",
       "    <tr style=\"text-align: right;\">\n",
       "      <th></th>\n",
       "      <th>external_id</th>\n",
       "    </tr>\n",
       "  </thead>\n",
       "  <tbody>\n",
       "    <tr>\n",
       "      <th>855545</th>\n",
       "      <td>39518471</td>\n",
       "    </tr>\n",
       "    <tr>\n",
       "      <th>855546</th>\n",
       "      <td>39518724</td>\n",
       "    </tr>\n",
       "    <tr>\n",
       "      <th>855547</th>\n",
       "      <td>39518845</td>\n",
       "    </tr>\n",
       "    <tr>\n",
       "      <th>855548</th>\n",
       "      <td>39519447</td>\n",
       "    </tr>\n",
       "    <tr>\n",
       "      <th>855549</th>\n",
       "      <td>39520071</td>\n",
       "    </tr>\n",
       "    <tr>\n",
       "      <th>...</th>\n",
       "      <td>...</td>\n",
       "    </tr>\n",
       "    <tr>\n",
       "      <th>1711084</th>\n",
       "      <td>37415460</td>\n",
       "    </tr>\n",
       "    <tr>\n",
       "      <th>1711085</th>\n",
       "      <td>37416686</td>\n",
       "    </tr>\n",
       "    <tr>\n",
       "      <th>1711086</th>\n",
       "      <td>37417046</td>\n",
       "    </tr>\n",
       "    <tr>\n",
       "      <th>1711087</th>\n",
       "      <td>37417206</td>\n",
       "    </tr>\n",
       "    <tr>\n",
       "      <th>1711088</th>\n",
       "      <td>37419099</td>\n",
       "    </tr>\n",
       "  </tbody>\n",
       "</table>\n",
       "<p>855544 rows × 1 columns</p>\n",
       "</div>"
      ],
      "text/plain": [
       "        external_id\n",
       "855545     39518471\n",
       "855546     39518724\n",
       "855547     39518845\n",
       "855548     39519447\n",
       "855549     39520071\n",
       "...             ...\n",
       "1711084    37415460\n",
       "1711085    37416686\n",
       "1711086    37417046\n",
       "1711087    37417206\n",
       "1711088    37419099\n",
       "\n",
       "[855544 rows x 1 columns]"
      ]
     },
     "execution_count": 60,
     "metadata": {},
     "output_type": "execute_result"
    }
   ],
   "source": [
    "pd.DataFrame(split_list[1])"
   ]
  },
  {
   "cell_type": "code",
   "execution_count": 53,
   "metadata": {},
   "outputs": [],
   "source": [
    "b=pd.DataFrame(a)"
   ]
  },
  {
   "cell_type": "code",
   "execution_count": 54,
   "metadata": {},
   "outputs": [
    {
     "data": {
      "text/html": [
       "<div>\n",
       "<style scoped>\n",
       "    .dataframe tbody tr th:only-of-type {\n",
       "        vertical-align: middle;\n",
       "    }\n",
       "\n",
       "    .dataframe tbody tr th {\n",
       "        vertical-align: top;\n",
       "    }\n",
       "\n",
       "    .dataframe thead th {\n",
       "        text-align: right;\n",
       "    }\n",
       "</style>\n",
       "<table border=\"1\" class=\"dataframe\">\n",
       "  <thead>\n",
       "    <tr style=\"text-align: right;\">\n",
       "      <th></th>\n",
       "      <th>external_id</th>\n",
       "    </tr>\n",
       "  </thead>\n",
       "  <tbody>\n",
       "    <tr>\n",
       "      <th>855545</th>\n",
       "      <td>39518471</td>\n",
       "    </tr>\n",
       "    <tr>\n",
       "      <th>855546</th>\n",
       "      <td>39518724</td>\n",
       "    </tr>\n",
       "    <tr>\n",
       "      <th>855547</th>\n",
       "      <td>39518845</td>\n",
       "    </tr>\n",
       "    <tr>\n",
       "      <th>855548</th>\n",
       "      <td>39519447</td>\n",
       "    </tr>\n",
       "    <tr>\n",
       "      <th>855549</th>\n",
       "      <td>39520071</td>\n",
       "    </tr>\n",
       "    <tr>\n",
       "      <th>...</th>\n",
       "      <td>...</td>\n",
       "    </tr>\n",
       "    <tr>\n",
       "      <th>1711084</th>\n",
       "      <td>37415460</td>\n",
       "    </tr>\n",
       "    <tr>\n",
       "      <th>1711085</th>\n",
       "      <td>37416686</td>\n",
       "    </tr>\n",
       "    <tr>\n",
       "      <th>1711086</th>\n",
       "      <td>37417046</td>\n",
       "    </tr>\n",
       "    <tr>\n",
       "      <th>1711087</th>\n",
       "      <td>37417206</td>\n",
       "    </tr>\n",
       "    <tr>\n",
       "      <th>1711088</th>\n",
       "      <td>37419099</td>\n",
       "    </tr>\n",
       "  </tbody>\n",
       "</table>\n",
       "<p>855544 rows × 1 columns</p>\n",
       "</div>"
      ],
      "text/plain": [
       "        external_id\n",
       "855545     39518471\n",
       "855546     39518724\n",
       "855547     39518845\n",
       "855548     39519447\n",
       "855549     39520071\n",
       "...             ...\n",
       "1711084    37415460\n",
       "1711085    37416686\n",
       "1711086    37417046\n",
       "1711087    37417206\n",
       "1711088    37419099\n",
       "\n",
       "[855544 rows x 1 columns]"
      ]
     },
     "execution_count": 54,
     "metadata": {},
     "output_type": "execute_result"
    }
   ],
   "source": []
  },
  {
   "cell_type": "code",
   "execution_count": null,
   "metadata": {},
   "outputs": [],
   "source": []
  }
 ],
 "metadata": {
  "kernelspec": {
   "display_name": "Python 3",
   "language": "python",
   "name": "python3"
  },
  "language_info": {
   "codemirror_mode": {
    "name": "ipython",
    "version": 3
   },
   "file_extension": ".py",
   "mimetype": "text/x-python",
   "name": "python",
   "nbconvert_exporter": "python",
   "pygments_lexer": "ipython3",
   "version": "3.6.9"
  }
 },
 "nbformat": 4,
 "nbformat_minor": 2
}
